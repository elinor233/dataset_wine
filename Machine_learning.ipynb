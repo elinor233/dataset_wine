{
 "cells": [
  {
   "cell_type": "code",
   "execution_count": 1,
   "id": "8fd3d76b",
   "metadata": {},
   "outputs": [],
   "source": [
    "import pandas as pd\n",
    "import os                       # for testing use only\n",
    "import numpy as np\n",
    "from sklearn.model_selection import train_test_split\n",
    "\n",
    "from sklearn.model_selection import train_test_split\n",
    "from sklearn.preprocessing import MinMaxScaler\n",
    "\n",
    "#import required packages\n",
    "from sklearn import neighbors\n",
    "from sklearn.metrics import mean_squared_error \n",
    "from math import sqrt\n",
    "import matplotlib.pyplot as plt\n",
    "%matplotlib inline\n",
    "\n",
    "from sklearn.svm import SVC\n",
    "\n",
    "from sklearn import linear_model, metrics, preprocessing\n",
    "from sklearn.linear_model import LogisticRegression, LinearRegression\n",
    "from sklearn.metrics import r2_score, f1_score\n",
    "\n",
    "from sklearn.preprocessing import StandardScaler, MinMaxScaler\n",
    "from sklearn.svm import SVR\n",
    "from sklearn.ensemble import BaggingRegressor\n",
    "from sklearn.datasets import make_regression\n",
    "import warnings\n",
    "warnings.filterwarnings('ignore')\n",
    "#from sklearn.linear_model import LinearRegression\n",
    "#sklearn.linear_model.LinearRegression()"
   ]
  },
  {
   "cell_type": "code",
   "execution_count": 2,
   "id": "c934b8d9",
   "metadata": {},
   "outputs": [
    {
     "name": "stdout",
     "output_type": "stream",
     "text": [
      "<class 'pandas.core.frame.DataFrame'>\n",
      "RangeIndex: 2876 entries, 0 to 2875\n",
      "Data columns (total 11 columns):\n",
      " #   Column        Non-Null Count  Dtype  \n",
      "---  ------        --------------  -----  \n",
      " 0   Name          2876 non-null   object \n",
      " 1   type          2876 non-null   float64\n",
      " 2   price         2876 non-null   float64\n",
      " 3   vintage       2876 non-null   float64\n",
      " 4   alcohol       2876 non-null   float64\n",
      " 5   bottle size   2876 non-null   float64\n",
      " 6   country       2876 non-null   int64  \n",
      " 7   region        2876 non-null   int64  \n",
      " 8   grapespecies  2876 non-null   int64  \n",
      " 9   producer      2876 non-null   object \n",
      " 10  Text wine     2876 non-null   object \n",
      "dtypes: float64(5), int64(3), object(3)\n",
      "memory usage: 247.3+ KB\n"
     ]
    }
   ],
   "source": [
    "data=pd.read_csv('df_wine_clean.csv')\n",
    "data.info()"
   ]
  },
  {
   "cell_type": "code",
   "execution_count": 3,
   "id": "67fb2c13",
   "metadata": {},
   "outputs": [],
   "source": [
    "# model import\n",
    "from sklearn.linear_model import LinearRegression\n",
    "from sklearn.model_selection import train_test_split\n",
    "# create the model\n",
    "reg = LinearRegression()\n",
    "cols = ['type', 'vintage','alcohol','bottle size','country','region','grapespecies']\n",
    "X = data[cols]\n",
    "y = data['price']\n",
    "# test train split\n",
    "X_train, X_test, y_train, y_test = train_test_split(X, y, test_size=0.2, random_state=42)"
   ]
  },
  {
   "cell_type": "code",
   "execution_count": 4,
   "id": "a2af80fe",
   "metadata": {},
   "outputs": [
    {
     "data": {
      "text/plain": [
       "71.47465132765682"
      ]
     },
     "execution_count": 4,
     "metadata": {},
     "output_type": "execute_result"
    }
   ],
   "source": [
    "# model.fit\n",
    "from sklearn.metrics import mean_squared_error\n",
    "reg.fit(X_train, y_train)\n",
    "y_pred = reg.predict(X_test)\n",
    "mean_squared_error(y_test, y_pred)"
   ]
  },
  {
   "cell_type": "code",
   "execution_count": 5,
   "id": "44d28895",
   "metadata": {},
   "outputs": [],
   "source": [
    "scaler = MinMaxScaler(feature_range=(0, 1))\n",
    "\n",
    "x_train_scaled = scaler.fit_transform(X_train)\n",
    "x_train = pd.DataFrame(x_train_scaled)\n",
    "\n",
    "x_test_scaled = scaler.fit_transform(X_test)\n",
    "X_test = pd.DataFrame(x_test_scaled)"
   ]
  },
  {
   "cell_type": "code",
   "execution_count": 6,
   "id": "ad8ff436",
   "metadata": {},
   "outputs": [
    {
     "name": "stdout",
     "output_type": "stream",
     "text": [
      "RMSE value for k=  1 is: 10.647023971253397\n",
      "RMSE value for k=  2 is: 9.32167643752468\n",
      "RMSE value for k=  3 is: 8.889229414050314\n",
      "RMSE value for k=  4 is: 8.471134375030678\n",
      "RMSE value for k=  5 is: 8.328859810505609\n",
      "RMSE value for k=  6 is: 8.299091654496753\n",
      "RMSE value for k=  7 is: 8.277782711865434\n",
      "RMSE value for k=  8 is: 8.212071215935659\n",
      "RMSE value for k=  9 is: 8.193893611037556\n",
      "RMSE value for k=  10 is: 8.27658849053562\n",
      "RMSE value for k=  11 is: 8.285874371211554\n",
      "RMSE value for k=  12 is: 8.296411954148253\n",
      "RMSE value for k=  13 is: 8.286151447588725\n",
      "RMSE value for k=  14 is: 8.310688581765628\n",
      "RMSE value for k=  15 is: 8.330543314151281\n",
      "RMSE value for k=  16 is: 8.304317482994692\n",
      "RMSE value for k=  17 is: 8.362245341565714\n",
      "RMSE value for k=  18 is: 8.351027540422962\n",
      "RMSE value for k=  19 is: 8.342799926946377\n",
      "RMSE value for k=  20 is: 8.386758891749144\n"
     ]
    }
   ],
   "source": [
    "rmse_val = [] #to store rmse values for different k\n",
    "for K in range(20):\n",
    "    K = K+1\n",
    "    model = neighbors.KNeighborsRegressor(n_neighbors = K)\n",
    "\n",
    "    model.fit(x_train, y_train)  #fit the model\n",
    "    pred=model.predict(X_test) #make prediction on test set\n",
    "    error = sqrt(mean_squared_error(y_test,pred)) #calculate rmse\n",
    "    rmse_val.append(error) #store rmse values\n",
    "    print('RMSE value for k= ' , K , 'is:', error)"
   ]
  },
  {
   "cell_type": "code",
   "execution_count": 7,
   "id": "bae11321",
   "metadata": {},
   "outputs": [
    {
     "data": {
      "text/plain": [
       "<AxesSubplot:>"
      ]
     },
     "execution_count": 7,
     "metadata": {},
     "output_type": "execute_result"
    },
    {
     "data": {
      "image/png": "[encoded data removed]",
      "text/plain": [
       "<Figure size 432x288 with 1 Axes>"
      ]
     },
     "metadata": {
      "needs_background": "light"
     },
     "output_type": "display_data"
    }
   ],
   "source": [
    "#plotting the rmse values against k values\n",
    "\n",
    "curve = pd.DataFrame(rmse_val) #elbow curve \n",
    "curve.plot()"
   ]
  },
  {
   "cell_type": "code",
   "execution_count": 8,
   "id": "d5622503",
   "metadata": {},
   "outputs": [
    {
     "data": {
      "text/plain": [
       "{'n_neighbors': 13}"
      ]
     },
     "execution_count": 8,
     "metadata": {},
     "output_type": "execute_result"
    }
   ],
   "source": [
    "from sklearn.model_selection import GridSearchCV\n",
    "params = {'n_neighbors':[7,8,9,11,13,15,17,19]}\n",
    "\n",
    "knn = neighbors.KNeighborsRegressor()\n",
    "\n",
    "model = GridSearchCV(knn, params, cv=5)\n",
    "model.fit(x_train,y_train)\n",
    "model.best_params_\n",
    "#model.best_score_"
   ]
  },
  {
   "cell_type": "code",
   "execution_count": 9,
   "id": "3c6c3d4d",
   "metadata": {},
   "outputs": [
    {
     "data": {
      "text/plain": [
       "0.3180214915477615"
      ]
     },
     "execution_count": 9,
     "metadata": {},
     "output_type": "execute_result"
    }
   ],
   "source": [
    "model.best_score_"
   ]
  }
 ],
 "metadata": {
  "kernelspec": {
   "display_name": "Python 3 (ipykernel)",
   "language": "python",
   "name": "python3"
  },
  "language_info": {
   "codemirror_mode": {
    "name": "ipython",
    "version": 3
   },
   "file_extension": ".py",
   "mimetype": "text/x-python",
   "name": "python",
   "nbconvert_exporter": "python",
   "pygments_lexer": "ipython3",
   "version": "3.9.7"
  }
 },
 "nbformat": 4,
 "nbformat_minor": 5
}
