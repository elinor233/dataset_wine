{
 "cells": [
  {
   "cell_type": "code",
   "execution_count": 1,
   "id": "30736893",
   "metadata": {},
   "outputs": [],
   "source": [
    "import time\n",
    "import pandas as pd\n",
    "import numpy as np\n",
    "import requests\n",
    "from bs4 import BeautifulSoup\n",
    "import matplotlib as mpl\n",
    "import matplotlib.pyplot as plt      \n",
    "import math\n",
    "import seaborn as sns\n",
    "import re\n",
    "%matplotlib inline\n",
    "import sklearn\n",
    "from sklearn import preprocessing, linear_model, model_selection\n",
    "from sklearn.preprocessing import StandardScaler, MinMaxScaler\n",
    "from sklearn.linear_model import LogisticRegression\n",
    "from sklearn.model_selection import train_test_split\n",
    "from sklearn.feature_extraction.text import CountVectorizer, TfidfVectorizer"
   ]
  },
  {
   "cell_type": "code",
   "execution_count": 2,
   "id": "fed91d44",
   "metadata": {},
   "outputs": [],
   "source": [
    "url ='https://www.allaboutwine.co.uk/wine'\n",
    "time.sleep(2) "
   ]
  },
  {
   "cell_type": "code",
   "execution_count": 3,
   "id": "ccaf7e4d",
   "metadata": {},
   "outputs": [
    {
     "name": "stdout",
     "output_type": "stream",
     "text": [
      "<Response [200]>\n"
     ]
    }
   ],
   "source": [
    "response = requests.get(url)\n",
    "print(response)\n",
    "soup = BeautifulSoup(response.content, 'html.parser')\n",
    "#print(soup.prettify())"
   ]
  },
  {
   "cell_type": "code",
   "execution_count": 4,
   "id": "786e66c8",
   "metadata": {},
   "outputs": [],
   "source": [
    "wine_name=[]\n",
    "price_wine=[]\n",
    "wine_type=[]\n",
    "vintage=[]\n",
    "alcohol=[]\n",
    "bottle_Size=[]\n",
    "country=[]\n",
    "region=[]\n",
    "grape=[]\n",
    "producer=[]\n",
    "\n",
    "text_wine=[]\n"
   ]
  },
  {
   "cell_type": "code",
   "execution_count": 5,
   "id": "c795cd5e",
   "metadata": {},
   "outputs": [],
   "source": [
    "#link for all wine collction.\n",
    "#it's array.\n",
    "wine_urls = []\n",
    "page_urls = []\n",
    "#for page in range(2,3): \n",
    "\n",
    "for page in range(0,3520,20): \n",
    "    url_new = 'https://www.allaboutwine.co.uk/wine' + '?start=' +str(page)\n",
    "    page_urls.append(url_new) \n",
    "    time.sleep(5)  \n",
    "    #print(page_urls) #check page_urls\n",
    "for page_url in page_urls:\n",
    "    response_page = requests.get(page_url) \n",
    "    soup_page = BeautifulSoup(response_page.content, 'html.parser')\n",
    "    #print(soup_page) #check page_urls\n",
    "    wines = soup_page.select('h2.product-title')\n",
    "    for wine in wines:\n",
    "        url =  'https://www.allaboutwine.co.uk'+ wine.find(\"a\")[\"href\"]\n",
    "        wine_urls.append(url)\n",
    "        \n",
    "#print(wine_urls) #check wine_urls"
   ]
  },
  {
   "cell_type": "code",
   "execution_count": 6,
   "id": "d269641e",
   "metadata": {},
   "outputs": [],
   "source": [
    "#Go through every link of the wines in every web page.\n",
    "\n",
    "for wine_url in wine_urls:\n",
    "    response = requests.get(wine_url)\n",
    "    wine_soup = BeautifulSoup(response.content, 'html.parser')\n",
    "    \n",
    "    try:\n",
    "        name = wine_soup.select('h1.product-title')[0].text\n",
    "        wine_name.append(name.strip()) \n",
    "        #print(wine_name) #check wine_name\n",
    "    except :\n",
    "        wine_name.append(np.nan)\n",
    "    #time.sleep(10)\n",
    "    \n",
    "    try:\n",
    "        price=wine_soup.select('div.sale-price')[0].text \n",
    "        price_wine.append(price.strip()) \n",
    "        #print(price_wine) #check price_wine\n",
    "    except :\n",
    "        price_wine.append(np.nan)\n",
    "    #time.sleep(10)\n",
    "    \n",
    "    try:   \n",
    "        types = wine_soup.find_all(\"div\", attrs={\"class\" : \"col-md-3 col-sm-6\"})[0]\n",
    "        wine_type.append(types.get_text()[6:].strip()) \n",
    "        #print(wine_type) #check wine_type\n",
    "    except :\n",
    "        wine_type.append(np.nan)\n",
    "#    time.sleep(10)  \n",
    "\n",
    "    try:\n",
    "        vintage_wine = wine_soup.find_all(\"div\", attrs={\"class\" : \"col-md-3 col-sm-6\"})[1]\n",
    "        vintage.append(vintage_wine.get_text()[9:].strip()) \n",
    "    except :\n",
    "        vintage.append(np.nan)\n",
    "    #print(vintage) #check vintage\n",
    "    #time.sleep(10)\n",
    "    \n",
    "    try:\n",
    "        alcohol_wine = wine_soup.find_all(\"div\", attrs={\"class\" : \"col-md-3 col-sm-6\"})[2]\n",
    "        #alcohol.append(alcohol_wine.get_text()[9:].strip()) \n",
    "        alc_text = alcohol_wine.get_text()\n",
    "        alc_text = str(alc_text)\n",
    "#         print(alc_text)\n",
    "        if '%' not in alc_text:\n",
    "            alcohol.append(None)\n",
    "        else:\n",
    "            alcohol.append(alc_text[9:].strip())\n",
    "    except :\n",
    "        alcohol.append(np.nan)\n",
    "    #print(alcohol) #check alcohol\n",
    "    #time.sleep(10)\n",
    "    \n",
    "    try:\n",
    "        bottle_size = wine_soup.find_all(\"div\", attrs={\"class\" : \"col-md-3 col-sm-6\"})[3]  ## להפוך למספר!!!\n",
    "        bottle_Size.append(bottle_size.get_text()[13:].strip()) \n",
    "    except :\n",
    "        bottle_Size.append(np.nan)\n",
    "    #print(bottle_Size) #check bottle_Size\n",
    "    #time.sleep(10)\n",
    "    \n",
    "    try:\n",
    "        country_wine = wine_soup.find_all(\"div\", attrs={\"class\" : \"col-md-3 col-sm-6\"})[4]\n",
    "        country.append(country_wine.get_text()[9:].strip())\n",
    "    except :\n",
    "        country.append(np.nan)\n",
    "    #print(country) #check country\n",
    "    #time.sleep(10)\n",
    "    \n",
    "    try:\n",
    "        region_wine = wine_soup.find_all(\"div\", attrs={\"class\" : \"col-md-3 col-sm-6\"})[5]\n",
    "        region.append(region_wine.get_text()[8:].strip()) \n",
    "    except :\n",
    "        region.append(np.nan)\n",
    "    #print(region) #check region    \n",
    "    #time.sleep(10)\n",
    "    \n",
    "    try:\n",
    "        grape_species = wine_soup.find_all(\"div\", attrs={\"class\" : \"col-md-3 col-sm-6\"})[6]\n",
    "        grape.append(grape_species.get_text()[7:].strip()) \n",
    "    except :\n",
    "        grape.append(np.nan)\n",
    "    #print(grape) #check grape    \n",
    "    #time.sleep(10)\n",
    "    \n",
    "    try:\n",
    "        producer_wine = wine_soup.find_all(\"div\", attrs={\"class\" : \"col-md-3 col-sm-6\"})[7]\n",
    "        producer.append(producer_wine.get_text()[10:].strip())   \n",
    "    except :\n",
    "        producer.append(np.nan)\n",
    "    #print(producer) #check producer\n",
    "    #time.sleep(10)\n",
    "    \n",
    "    try:\n",
    "        text = wine_soup.find_all(\"div\", attrs={\"class\" : \"product-ldesc\"})\n",
    "        for x in text:\n",
    "            texts=x.find_all('p')[0].text\n",
    "            if not x:\n",
    "                text_wine.append(np.nan)\n",
    "            text_wine.append(texts)\n",
    "    except:\n",
    "        text_wine.append(np.nan)\n",
    "        #print(text_wine) #check text_wine \n",
    "        \n",
    "\n"
   ]
  },
  {
   "cell_type": "code",
   "execution_count": 7,
   "id": "63d0def9",
   "metadata": {},
   "outputs": [
    {
     "name": "stdout",
     "output_type": "stream",
     "text": [
      "3520\n",
      "3520\n",
      "3520\n",
      "3520\n",
      "3520\n",
      "3520\n",
      "3520\n",
      "3520\n",
      "3520\n",
      "3520\n",
      "3520\n",
      "3518\n"
     ]
    }
   ],
   "source": [
    "#check Box for length lists.\n",
    "\n",
    "print(len(wine_name))\n",
    "print(len(price_wine))\n",
    "print(len(wine_type))\n",
    "print(len(vintage))\n",
    "print(len(alcohol))\n",
    "print(len(bottle_Size))\n",
    "print(len(country))\n",
    "print(len(region))\n",
    "print(len(region))\n",
    "print(len(grape))\n",
    "print(len(producer))\n",
    "print(len(text_wine))\n"
   ]
  },
  {
   "cell_type": "code",
   "execution_count": 9,
   "id": "c14466c3",
   "metadata": {},
   "outputs": [
    {
     "name": "stdout",
     "output_type": "stream",
     "text": [
      "3520\n"
     ]
    }
   ],
   "source": [
    "text_wine.append(np.nan)\n",
    "text_wine.append(np.nan)\n",
    "print(len(text_wine))\n"
   ]
  },
  {
   "cell_type": "code",
   "execution_count": 10,
   "id": "72fca175",
   "metadata": {},
   "outputs": [],
   "source": [
    "df_wine = pd.DataFrame({'Name':wine_name, 'type':wine_type,'price':price_wine, 'vintage':vintage, 'alcohol':alcohol,\n",
    "                        'bottle size':bottle_Size,'country':country,'region':region,'grapespecies':grape,\n",
    "                        'producer':producer, 'Text wine':text_wine})\n",
    "#df_wine                        \n",
    "#text_vectorized\n"
   ]
  },
  {
   "cell_type": "code",
   "execution_count": 11,
   "id": "5da9009f",
   "metadata": {},
   "outputs": [],
   "source": [
    "df_wine.to_csv('df_wine_all.csv' , index=False)\n",
    "\n",
    "#frames = [wine_details, text_vectorized]\n",
    "#df_merge = pd.concat(frames , axis = \"columns\")\n",
    "#df_merge.to_csv('df_merge.csv' , index=False)\n"
   ]
  },
  {
   "cell_type": "code",
   "execution_count": null,
   "id": "6715212d",
   "metadata": {},
   "outputs": [],
   "source": []
  }
 ],
 "metadata": {
  "kernelspec": {
   "display_name": "Python 3 (ipykernel)",
   "language": "python",
   "name": "python3"
  },
  "language_info": {
   "codemirror_mode": {
    "name": "ipython",
    "version": 3
   },
   "file_extension": ".py",
   "mimetype": "text/x-python",
   "name": "python",
   "nbconvert_exporter": "python",
   "pygments_lexer": "ipython3",
   "version": "3.9.7"
  }
 },
 "nbformat": 4,
 "nbformat_minor": 5
}
